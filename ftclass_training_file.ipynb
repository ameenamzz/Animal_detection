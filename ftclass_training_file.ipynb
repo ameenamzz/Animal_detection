{
  "cells": [
    {
      "cell_type": "code",
      "execution_count": null,
      "metadata": {
        "colab": {
          "base_uri": "https://localhost:8080/"
        },
        "id": "qMEB9vbBkFrj",
        "outputId": "1f1e6dd5-d005-469d-ffb2-3df2207e93f6"
      },
      "outputs": [],
      "source": [
        "!pip install ultralytics roboflow\n",
        "\n",
        "import os\n",
        "from ultralytics import YOLO\n",
        "from roboflow import Roboflow\n",
        "import yaml\n",
        "from pathlib import Path"
      ]
    },
    {
      "cell_type": "code",
      "execution_count": null,
      "metadata": {
        "colab": {
          "base_uri": "https://localhost:8080/"
        },
        "id": "IchX4_AXlt8K",
        "outputId": "b2728ac4-d34b-4ba4-abd6-a5650ddc173b"
      },
      "outputs": [],
      "source": [
        "!pip install torch torchvision torchaudio"
      ]
    },
    {
      "cell_type": "code",
      "execution_count": 3,
      "metadata": {
        "id": "xAKAHGmHl6EJ"
      },
      "outputs": [],
      "source": [
        "import torch"
      ]
    },
    {
      "cell_type": "code",
      "execution_count": null,
      "metadata": {
        "colab": {
          "base_uri": "https://localhost:8080/"
        },
        "id": "CsF1IgkulCHI",
        "outputId": "97098c5d-ce20-4740-e338-7e922cc13ee0"
      },
      "outputs": [],
      "source": [
        "rf = Roboflow(api_key=\"1VHz8QF5F69ddtGCCfTg\")\n",
        "project = rf.workspace(\"sml-project-hfi0w\").project(\"footprint-classification\")\n",
        "dataset = project.version(1).download(\"folder\")"
      ]
    },
    {
      "cell_type": "code",
      "execution_count": null,
      "metadata": {
        "colab": {
          "base_uri": "https://localhost:8080/"
        },
        "id": "MS3uPZyulk4_",
        "outputId": "12fff13a-542f-455d-d2bd-422314e93604"
      },
      "outputs": [],
      "source": [
        "# Initialize YOLOv8 classification model\n",
        "model = YOLO('yolov8n-cls.pt')"
      ]
    },
    {
      "cell_type": "code",
      "execution_count": 6,
      "metadata": {
        "id": "_u3LlHxzlmAn"
      },
      "outputs": [],
      "source": [
        "# Training configuration\n",
        "training_config = {\n",
        "    'data': 'footprint-classification-1',  # Path to dataset\n",
        "    'epochs': 100,\n",
        "    'imgsz': 640,\n",
        "    'batch': 16,\n",
        "    'device': 0 if torch.cuda.is_available() else 'cpu',\n",
        "    'workers': 8,\n",
        "    'patience': 50,  # Early stopping patience\n",
        "    'save': True,  # Save results\n",
        "    'project': 'footprint_classification',\n",
        "    'name': 'yolov8_classification',\n",
        "    'pretrained': True,  # Use pretrained weights\n",
        "    'optimizer': 'Adam',  # Using Adam optimizer\n",
        "    'lr0': 0.001,  # Initial learning rate\n",
        "    'lrf': 0.01,  # Final learning rate fraction\n",
        "    'momentum': 0.937,\n",
        "    'weight_decay': 0.0005,\n",
        "    'warmup_epochs': 3.0,\n",
        "    'warmup_momentum': 0.8,\n",
        "    'warmup_bias_lr': 0.1,\n",
        "    'verbose': True,\n",
        "    'seed': 42\n",
        "}"
      ]
    },
    {
      "cell_type": "code",
      "execution_count": null,
      "metadata": {
        "colab": {
          "base_uri": "https://localhost:8080/",
          "height": 1000
        },
        "id": "ElFFSCHsSjZ0",
        "outputId": "c75b5f39-67e8-4918-d17c-8b55e9399203"
      },
      "outputs": [],
      "source": [
        "# Install required packages\n",
        "!pip install ultralytics roboflow\n",
        "\n",
        "from ultralytics import YOLO\n",
        "from roboflow import Roboflow\n",
        "import os\n",
        "import torch\n",
        "import shutil\n",
        "from pathlib import Path\n",
        "\n",
        "# Initialize Roboflow and download dataset\n",
        "rf = Roboflow(api_key=\"1VHz8QF5F69ddtGCCfTg\")\n",
        "project = rf.workspace(\"sml-project-hfi0w\").project(\"footprint-classification\")\n",
        "dataset = project.version(1).download(\"folder\")\n",
        "\n",
        "# Get the actual dataset path from the Roboflow dataset object\n",
        "base_dataset_path = dataset.location  # This gets the actual path where Roboflow downloaded the data\n"
      ]
    },
    {
      "cell_type": "code",
      "execution_count": null,
      "metadata": {},
      "outputs": [],
      "source": [
        "\n",
        "# Function to organize dataset into YOLOv8 classification format\n",
        "def organize_dataset(base_path):\n",
        "    # Create main directories\n",
        "    dataset_root = Path('dataset')\n",
        "    if dataset_root.exists():\n",
        "        shutil.rmtree(dataset_root)\n",
        "\n",
        "    # Source directory from Roboflow download\n",
        "    source_path = Path(base_path)\n",
        "\n",
        "    # Create and populate train, valid, test directories\n",
        "    for split in ['train', 'valid', 'test']:\n",
        "        split_source = source_path / split\n",
        "        if split_source.exists():\n",
        "            split_dest = dataset_root / split\n",
        "            split_dest.mkdir(parents=True, exist_ok=True)\n",
        "\n",
        "            # Copy all class folders\n",
        "            if split_source.is_dir():\n",
        "                for item in split_source.iterdir():\n",
        "                    if item.is_dir():\n",
        "                        shutil.copytree(item, split_dest / item.name)\n",
        "\n",
        "    return str(dataset_root.absolute())\n",
        "\n",
        "# Print the base dataset path\n",
        "print(f\"Downloaded dataset location: {base_dataset_path}\")\n",
        "\n",
        "# Organize dataset\n",
        "dataset_path = organize_dataset(base_dataset_path)\n",
        "print(f\"Organized dataset at: {dataset_path}\")\n"
      ]
    },
    {
      "cell_type": "code",
      "execution_count": null,
      "metadata": {},
      "outputs": [],
      "source": [
        "\n",
        "# Print dataset structure to verify\n",
        "def print_dataset_structure(path):\n",
        "    path = Path(path)\n",
        "    print(\"\\nDataset structure:\")\n",
        "    total_images = 0\n",
        "    for split in ['train', 'valid', 'test']:\n",
        "        split_path = path / split\n",
        "        if split_path.exists():\n",
        "            print(f\"\\n{split} folder:\")\n",
        "            split_total = 0\n",
        "            for class_folder in split_path.iterdir():\n",
        "                if class_folder.is_dir():\n",
        "                    n_images = len(list(class_folder.glob('*')))\n",
        "                    print(f\"  {class_folder.name}: {n_images} images\")\n",
        "                    split_total += n_images\n",
        "            print(f\"  Total {split} images: {split_total}\")\n",
        "            total_images += split_total\n",
        "    print(f\"\\nTotal dataset images: {total_images}\")\n",
        "\n",
        "print_dataset_structure(dataset_path)\n"
      ]
    },
    {
      "cell_type": "code",
      "execution_count": null,
      "metadata": {},
      "outputs": [],
      "source": [
        "\n",
        "# Initialize YOLOv8 classification model\n",
        "model = YOLO('yolov8n-cls.pt')\n",
        "\n",
        "# Training configuration\n",
        "training_config = {\n",
        "    'data': dataset_path,\n",
        "    'epochs': 100,\n",
        "    'imgsz': 640,\n",
        "    'batch': 16,\n",
        "    'device': 0 if torch.cuda.is_available() else 'cpu',\n",
        "    'workers': 8,\n",
        "    'patience': 50,\n",
        "    'save': True,\n",
        "    'project': 'footprint_classification',\n",
        "    'name': 'yolov8_classification',\n",
        "    'pretrained': True,\n",
        "    'optimizer': 'Adam',\n",
        "    'lr0': 0.001,\n",
        "    'lrf': 0.01,\n",
        "    'momentum': 0.937,\n",
        "    'weight_decay': 0.0005,\n",
        "    'warmup_epochs': 3.0,\n",
        "    'warmup_momentum': 0.8,\n",
        "    'warmup_bias_lr': 0.1,\n",
        "    'verbose': True,\n",
        "    'seed': 42\n",
        "}\n"
      ]
    },
    {
      "cell_type": "code",
      "execution_count": null,
      "metadata": {},
      "outputs": [],
      "source": [
        "\n",
        "# Start training\n",
        "results = model.train(**training_config)\n",
        "\n",
        "# Evaluate the model on validation set\n",
        "val_results = model.val()\n",
        "\n",
        "# Export the model to ONNX format (optional)\n",
        "model.export(format='onnx')\n",
        "\n",
        "# Get the path to the best weights\n",
        "best_weights_path = Path(f\"{training_config['project']}/{training_config['name']}/weights/best.pt\")\n"
      ]
    },
    {
      "cell_type": "code",
      "execution_count": null,
      "metadata": {},
      "outputs": [],
      "source": [
        "\n",
        "def test_model(model_path, image_path):\n",
        "    model = YOLO(model_path)\n",
        "    results = model.predict(image_path, task='classify')\n",
        "\n",
        "    print(f\"Predictions for {image_path}:\")\n",
        "    for r in results:\n",
        "        probs = r.probs\n",
        "        top_k = probs.top5\n",
        "        for i, (cls_idx, prob) in enumerate(zip(top_k[0], top_k[1])):\n",
        "            print(f\"#{i+1} Class: {r.names[cls_idx]} | Probability: {prob:.4f}\")\n"
      ]
    },
    {
      "cell_type": "code",
      "execution_count": null,
      "metadata": {},
      "outputs": [],
      "source": [
        "\n",
        "print(f\"\\nTraining completed! Best weights saved at: {best_weights_path}\")\n",
        "print(\"\\nModel performance metrics:\")\n",
        "print(f\"Top-1 Accuracy: {val_results.top1}\")\n",
        "print(f\"Top-5 Accuracy: {val_results.top5}\")"
      ]
    }
  ],
  "metadata": {
    "accelerator": "TPU",
    "colab": {
      "gpuType": "V28",
      "provenance": []
    },
    "kernelspec": {
      "display_name": "Python 3",
      "name": "python3"
    },
    "language_info": {
      "name": "python"
    }
  },
  "nbformat": 4,
  "nbformat_minor": 0
}
